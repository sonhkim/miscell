{
 "cells": [
  {
   "cell_type": "code",
   "execution_count": 1,
   "metadata": {},
   "outputs": [],
   "source": [
    "import csv\n",
    "import pandas as pd\n",
    "import os\n",
    "import glob\n",
    "import re"
   ]
  },
  {
   "cell_type": "code",
   "execution_count": 2,
   "metadata": {},
   "outputs": [],
   "source": [
    "#pd.set_option('display.max_rows', 500)\n",
    "pd.set_option('display.max_columns', 500)"
   ]
  },
  {
   "cell_type": "code",
   "execution_count": null,
   "metadata": {},
   "outputs": [],
   "source": [
    "# pd.set_option('display.max_columns', None)\n",
    "# pd.set_option('display.max_colwidth', None)"
   ]
  },
  {
   "cell_type": "code",
   "execution_count": null,
   "metadata": {},
   "outputs": [],
   "source": [
    "#root_dir = '/Users/songheekim/Documents/VerbSpec_eelbrain27/singletrialexport/2_or_3_word_trials_subspecificity/'"
   ]
  },
  {
   "cell_type": "code",
   "execution_count": 3,
   "metadata": {},
   "outputs": [],
   "source": [
    "root_dir = '/Users/songheekim/Documents/VerbSpec_eelbrain27/singletrialexport_free/2_or_3_word_trials_subspecificity/'"
   ]
  },
  {
   "cell_type": "code",
   "execution_count": null,
   "metadata": {},
   "outputs": [],
   "source": [
    "roi_folders = ['left_BA21', 'LAG', 'Frankland-25', 'LATP']\n",
    "sample_file = root_dir + 'LATP/ds_single_3word_fullanova_R0053.csv'"
   ]
  },
  {
   "cell_type": "code",
   "execution_count": null,
   "metadata": {},
   "outputs": [],
   "source": [
    "ds_sample = pd.read_csv(sample_file)\n",
    "columns = ds_sample.columns.values.tolist()\n",
    "#print (len(columns))"
   ]
  },
  {
   "cell_type": "code",
   "execution_count": null,
   "metadata": {},
   "outputs": [],
   "source": [
    "#ds_sample.head()"
   ]
  },
  {
   "cell_type": "code",
   "execution_count": null,
   "metadata": {},
   "outputs": [],
   "source": [
    "ds_sample.head()"
   ]
  },
  {
   "cell_type": "code",
   "execution_count": null,
   "metadata": {},
   "outputs": [],
   "source": [
    "ds_sample.shape"
   ]
  },
  {
   "cell_type": "code",
   "execution_count": null,
   "metadata": {},
   "outputs": [],
   "source": [
    "for roi in roi_folders:\n",
    "    print (roi)\n",
    "    grand_df = pd.DataFrame(columns=columns)\n",
    "    #filenames = os.listdir(root_dir + roi)\n",
    "    filenames = [f for f in os.listdir(root_dir + roi) if not f.startswith('.')]\n",
    "    filenames.sort()\n",
    "    print (filenames)\n",
    "    row_n = 0\n",
    "    for filename in filenames: \n",
    "        #print (filename)\n",
    "        with open(root_dir + roi + '/' + filename) as f:\n",
    "            df = pd.read_csv(f)\n",
    "            row_n += df.shape[0]\n",
    "            print (filename, df.shape)\n",
    "            grand_df = pd.concat([grand_df, df])\n",
    "            #print (grand_df.shape)\n",
    "            \n",
    "    print ('row number check:', grand_df.shape[0] == row_n)\n",
    "    grand_df.to_csv(root_dir + roi + '/' + 'grand_ds')"
   ]
  },
  {
   "cell_type": "code",
   "execution_count": null,
   "metadata": {},
   "outputs": [],
   "source": []
  },
  {
   "cell_type": "code",
   "execution_count": null,
   "metadata": {},
   "outputs": [],
   "source": [
    "#### Previous attempt (with free orientation, not ms-by-ms)\n",
    "\n",
    "# root_dir = '/Users/songheekim/Documents/VerbSpec_eelbrain27/export_to_R_Carbon/main_2_or_3/'\n",
    "\n",
    "# subject = [\"R0053\", \"R0471\", \"R0522\", \"R0684\", \"R0827\", \"R0958\", \"R0998\", \"R1030\", \"R1119\", \"R1139\", \"R1147\", \n",
    "#            \"R1200\", \"R1201\", \"R1202\", \"R1222\", \"R1241\", \"R1243\", \"R1258\", \"R1259\", \"R1260\", \"R1263\", \"R1265\", \n",
    "#            \"R1266\", \"R1284\", \"R1289\", \"R1316\", \"R1320\"]\n",
    "# len(subject)\n",
    "\n",
    "# test_string = ['327_376', '313_374', '332_364', '360_401', '314_340', '535_575', '247_276', '345_389', '378_419', '341_391']\n",
    "# #replace with re.match()\n",
    "\n",
    "# ## create a list of all txt files\n",
    "# allfile = os.listdir(root_dir)\n",
    "# allfile = [a for a in allfile if a.startswith('main')]\n",
    "\n",
    "# len(allfile)\n",
    "\n",
    "# ### create a dictionary for each test\n",
    "# #data = {k: [] for k in range(2)}\n",
    "# test_dic = {k : [] for k in test_string}\n",
    "# #test_dic\n",
    "\n",
    "# for a in allfile:\n",
    "#     testname = re.search('[0-9][0-9][0-9]_[0-9][0-9][0-9]', a, flags=0)\n",
    "#     #print(testname.group(0))\n",
    "#     test_dic[testname.group(0)].append(a)\n",
    "\n",
    "# for v in test_dic.values():\n",
    "#     v = v.sort()\n",
    "    \n",
    "# for v in test_dic.values():\n",
    "#     print (len(v))\n",
    "\n",
    "# test_dic\n",
    "\n",
    "# #raw.columns.to_list()\n",
    "\n",
    "# cols = ['in_c', 'trigger', 'sub_specificity', 'verb_specificity', 'sub_hash', 'combinatoriness', 'object_specificity', 'verb_hash', 'subject', 'sentence', 'word1', 'word2', 'word3',\n",
    "#  'RT', 'freq_v', 'len_v', 'Nmorph_v', 'freq_s', 'len_s', 'Nmorph_s', 'freq_o', 'len_o', 'Nmorph_o', 'index']\n",
    "\n",
    "# for k, v in test_dic.items():\n",
    "#     print (k)\n",
    "#     testname = v[0][:-10] #main_2_or_3_ba21_at_verb_327_376\n",
    "#     df_list = []\n",
    "#     allrowN = 0\n",
    "#     for i in range(len(v)):\n",
    "#         raw = pd.read_csv(root_dir + v[i], delimiter=\"\\t\")\n",
    "#         df = raw[cols]\n",
    "#         rowN = df.shape[0]\n",
    "#         colN = df.shape[1]\n",
    "#         allrowN += rowN\n",
    "#         #print (v[i], df.shape)\n",
    "#         #print ('i is ', i)\n",
    "#         #print (v[i])\n",
    "#         df_list.append(df)\n",
    "#     print ('i is ', i)\n",
    "#     all_df = pd.concat(df_list)\n",
    "#     if not all_df.shape[0] == allrowN:\n",
    "#         print (testname, 'the sum of row number is not equal to rows in ds_all!')\n",
    "#     test_fn = '/Users/songheekim/Documents/VerbSpec_eelbrain27/export_to_R_Carbon/' + testname + '.csv'\n",
    "#     print (test_fn)\n",
    "#     all_df.to_csv(test_fn)\n",
    "#     print ('test ', k, ' finished')\n",
    "       \n",
    "#     #print (all_df)\n",
    "#     #print(len(df_list), '\\n', df_list)\n",
    "#     #break"
   ]
  }
 ],
 "metadata": {
  "kernelspec": {
   "display_name": "Python 3",
   "language": "python",
   "name": "python3"
  },
  "language_info": {
   "codemirror_mode": {
    "name": "ipython",
    "version": 3
   },
   "file_extension": ".py",
   "mimetype": "text/x-python",
   "name": "python",
   "nbconvert_exporter": "python",
   "pygments_lexer": "ipython3",
   "version": "3.7.6"
  }
 },
 "nbformat": 4,
 "nbformat_minor": 4
}
